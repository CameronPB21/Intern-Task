{
 "cells": [
  {
   "cell_type": "code",
   "execution_count": 2,
   "metadata": {},
   "outputs": [],
   "source": [
    "import numpy as np\n",
    "import matplotlib.pyplot as plt\n",
    "import glob\n",
    "\n",
    "from sklearn import svm\n",
    "from sklearn.metrics import roc_curve, auc\n",
    "from sklearn.model_selection import train_test_split\n",
    "from sklearn.preprocessing import label_binarize\n",
    "from sklearn.multiclass import OneVsRestClassifier\n",
    "from sklearn.tree import DecisionTreeClassifier"
   ]
  },
  {
   "cell_type": "code",
   "execution_count": 5,
   "metadata": {},
   "outputs": [
    {
     "name": "stdout",
     "output_type": "stream",
     "text": [
      "[]\n",
      "[]\n"
     ]
    }
   ],
   "source": [
    "\n",
    "# Constants\n",
    "NORMAL = 0\n",
    "INTERICTAL = 1\n",
    "ICTAL = 2\n",
    "\n",
    "# Creating file_list for data\n",
    "data_path = \"C:\\\\Users\\\\camer\\\\Desktop\\\\Neurovigil\\\\EEG_Data_Z\\\\\"\n",
    "folder_names = ['Z_normal', 'O_normal', 'N_interictal', \n",
    "                'F_interictal', 'S_ictal']\n",
    "state_label = [NORMAL]*200 + [INTERICTAL]*200 + [ICTAL]*100\n",
    "label_list = [data_path + \"Z_normal\" + \"\\\\*.txt\",\n",
    "             data_path + \"O_normal\" + \"\\\\*.txt\",\n",
    "             data_path + \"N_interictal\" + \"\\\\*.txt\",\n",
    "             data_path + \"F_interictal\" + \"\\\\*.txt\",\n",
    "             data_path + \"S_ictal\" + \"\\\\*.txt\"]\n",
    "file_list = []\n",
    "for label in label_list:\n",
    "    file_list += glob.glob(label)\n",
    "# Pulling data\n",
    "data = [[]]*500\n",
    "i = 0\n",
    "for file in file_list:\n",
    "    arr = open(file).read()\n",
    "    data[i] = ([int(x) for x in arr.split()])\n",
    "    i += 1\n",
    "data = np.array(data)\n"
   ]
  },
  {
   "cell_type": "code",
   "execution_count": null,
   "metadata": {},
   "outputs": [],
   "source": []
  }
 ],
 "metadata": {
  "kernelspec": {
   "display_name": "Python 3",
   "language": "python",
   "name": "python3"
  },
  "language_info": {
   "codemirror_mode": {
    "name": "ipython",
    "version": 3
   },
   "file_extension": ".py",
   "mimetype": "text/x-python",
   "name": "python",
   "nbconvert_exporter": "python",
   "pygments_lexer": "ipython3",
   "version": "3.7.3"
  }
 },
 "nbformat": 4,
 "nbformat_minor": 2
}
